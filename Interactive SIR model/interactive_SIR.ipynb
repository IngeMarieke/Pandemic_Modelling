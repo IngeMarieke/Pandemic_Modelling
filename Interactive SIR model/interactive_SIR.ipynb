{
 "cells": [
  {
   "cell_type": "code",
   "execution_count": 5,
   "metadata": {},
   "outputs": [],
   "source": [
    "import matplotlib.pyplot as plt\n",
    "import numpy as np\n",
    "from ipywidgets import interactive, IntSlider, FloatSlider, FloatLogSlider, fixed\n",
    "from SIR import SIR\n",
    "from SVIRD import SVIRD"
   ]
  },
  {
   "cell_type": "code",
   "execution_count": 6,
   "metadata": {
    "pycharm": {
     "name": "#%%\n"
    }
   },
   "outputs": [
    {
     "data": {
      "application/vnd.jupyter.widget-view+json": {
       "model_id": "15148fdf12374429a3cb28743be53432",
       "version_major": 2,
       "version_minor": 0
      },
      "text/plain": [
       "interactive(children=(FloatLogSlider(value=1.7, base=2.0, description='r', max=6.0, min=-6.0), FloatLogSlider(…"
      ]
     },
     "metadata": {},
     "output_type": "display_data"
    }
   ],
   "source": [
    "interactive(SIR,\n",
    "            r=FloatLogSlider(value = 1.7, base = 2, min = -6, max = 6, continuous_update = True),\n",
    "            a=FloatLogSlider(value = 0.6, base = 2, min = -6, max = 6, continuous_update = True),\n",
    "            N=IntSlider(value = 100, min = 1, max = 200, continuous_update = False),\n",
    "            t_0=fixed(0.0),\n",
    "            t_end=FloatSlider(value = 15, min = 1, max = 100, continuous_update = False),\n",
    "            dt=FloatSlider(value = 0.10, min = 0.1, max = 1.0, continuous_update = False),\n",
    "            I_0=fixed(1),\n",
    "            R_0=fixed(0))"
   ]
  },
  {
   "cell_type": "code",
   "execution_count": 7,
   "metadata": {
    "pycharm": {
     "name": "#%%\n"
    }
   },
   "outputs": [
    {
     "data": {
      "application/vnd.jupyter.widget-view+json": {
       "model_id": "27fd781bf9da4b96869b68e59b90f4f7",
       "version_major": 2,
       "version_minor": 0
      },
      "text/plain": [
       "interactive(children=(FloatLogSlider(value=1.7, base=2.0, description='r', max=6.0, min=-6.0), FloatLogSlider(…"
      ]
     },
     "metadata": {},
     "output_type": "display_data"
    }
   ],
   "source": [
    "from SVIRD import SVIRD\n",
    "interactive(SVIRD,\n",
    "            r=FloatLogSlider(value = 1.7, base = 2, min = -6, max = 6, continuous_update = True),\n",
    "            a=FloatLogSlider(value = 0.6, base = 2, min = -6, max = 6, continuous_update = True),\n",
    "            v=FloatLogSlider(value = 1, base = 2, min = -6, max = 6, continuous_update = True),\n",
    "            d=FloatLogSlider(value = 0.1, base = 2, min = -6, max = 6, continuous_update = True),\n",
    "            N=IntSlider(value = 100, min = 1, max = 200, continuous_update = False),\n",
    "            t_0=fixed(0.0),\n",
    "            t_end=FloatSlider(value = 15, min = 1, max = 100, continuous_update = False),\n",
    "            dt=FloatSlider(value = 0.10, min = 0.1, max = 1.0, continuous_update = False),\n",
    "            I_0=fixed(1),\n",
    "            R_0=fixed(0),\n",
    "            V_0=fixed(0),\n",
    "            D_0=fixed(0))"
   ]
  },
  {
   "cell_type": "code",
   "execution_count": 3,
   "metadata": {},
   "outputs": [],
   "source": []
  }
 ],
 "metadata": {
  "kernelspec": {
   "display_name": "Python 3",
   "language": "python",
   "name": "python3"
  },
  "language_info": {
   "codemirror_mode": {
    "name": "ipython",
    "version": 3
   },
   "file_extension": ".py",
   "mimetype": "text/x-python",
   "name": "python",
   "nbconvert_exporter": "python",
   "pygments_lexer": "ipython3",
   "version": "3.7.6"
  }
 },
 "nbformat": 4,
 "nbformat_minor": 1
}